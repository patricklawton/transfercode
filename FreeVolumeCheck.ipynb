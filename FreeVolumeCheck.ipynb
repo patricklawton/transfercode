{
 "cells": [
  {
   "cell_type": "code",
   "execution_count": 39,
   "metadata": {},
   "outputs": [],
   "source": [
    "import numpy as np\n",
    "import gsd.hoomd\n",
    "import hoomd\n",
    "from hoomd import hpmc\n",
    "import matplotlib.pyplot as plt"
   ]
  },
  {
   "cell_type": "code",
   "execution_count": 28,
   "metadata": {},
   "outputs": [
    {
     "data": {
      "text/plain": [
       "<hoomd.context.SimulationContext at 0x2b745f998d68>"
      ]
     },
     "execution_count": 28,
     "metadata": {},
     "output_type": "execute_result"
    }
   ],
   "source": [
    "hoomd.context.initialize(\"--mode=cpu\")"
   ]
  },
  {
   "cell_type": "code",
   "execution_count": 56,
   "metadata": {},
   "outputs": [],
   "source": [
    "cube_verts = np.array([(0,0,0),(1,0,0),(1,1,0),(1,1,1),(0,1,1),(1,0,1),(0,1,0),(0,0,1)]) \n",
    "cube1 = cube_verts\n",
    "cube2 = []\n",
    "for vert in cube_verts:\n",
    "    cube2vert = (vert[0] + 2, vert[1], vert[2])\n",
    "    cube2.append(cube2vert)\n",
    "cube2 = np.array(cube2)\n",
    "box_matrix = np.array([[3,0,0], [0,1,0], [0,0,1]])\n",
    "box_matrix  = np.transpose(box_matrix)"
   ]
  },
  {
   "cell_type": "code",
   "execution_count": 3,
   "metadata": {},
   "outputs": [],
   "source": [
    "# centered on origin\n",
    "cube_verts = np.array([(0,0,0),(1,0,0),(1,1,0),(1,1,1),(0,1,1),(1,0,1),(0,1,0),(0,0,1)]) - 0.5 \n",
    "cube1 = []\n",
    "cube2 = []\n",
    "for vert in cube_verts:\n",
    "    cube1vert = (vert[0]-1, vert[1], vert[2])\n",
    "    cube1.append(cube1vert)\n",
    "    cube2vert = (vert[0]+1\n",
    "                 , vert[1], vert[2])\n",
    "    cube2.append(cube2vert)\n",
    "cube1 = np.array(cube1)\n",
    "cube2 = np.array(cube2)\n",
    "# box_matrix = np.array([[3,0,0], [0,1,0], [0,0,1]])\n",
    "# box_matrix  = np.transpose(box_matrix)"
   ]
  },
  {
   "cell_type": "code",
   "execution_count": 6,
   "metadata": {},
   "outputs": [
    {
     "data": {
      "text/plain": [
       "array([[ 0.5, -0.5, -0.5],\n",
       "       [ 1.5, -0.5, -0.5],\n",
       "       [ 1.5,  0.5, -0.5],\n",
       "       [ 1.5,  0.5,  0.5],\n",
       "       [ 0.5,  0.5,  0.5],\n",
       "       [ 1.5, -0.5,  0.5],\n",
       "       [ 0.5,  0.5, -0.5],\n",
       "       [ 0.5, -0.5,  0.5]])"
      ]
     },
     "execution_count": 6,
     "metadata": {},
     "output_type": "execute_result"
    }
   ],
   "source": [
    "cube2"
   ]
  },
  {
   "cell_type": "code",
   "execution_count": 31,
   "metadata": {},
   "outputs": [],
   "source": [
    "# gsd snapshot\n",
    "snap = gsd.hoomd.Snapshot()\n",
    "snap.particles.position = np.array([[1,0,0], [-1,0,0]])\n",
    "snap.configuration.box = [3,1,1,0,0,0]"
   ]
  },
  {
   "cell_type": "code",
   "execution_count": 30,
   "metadata": {},
   "outputs": [],
   "source": [
    "# hoomd snapshot\n",
    "box = hoomd.data.boxdim(3,1,1,0,0,0)\n",
    "snap = hoomd.data.make_snapshot(N = 2, box = box)\n",
    "snap.particles.position[0] = [-1,0,0]\n",
    "snap.particles.position[1] = [1,0,0]"
   ]
  },
  {
   "cell_type": "code",
   "execution_count": 31,
   "metadata": {},
   "outputs": [
    {
     "name": "stdout",
     "output_type": "stream",
     "text": [
      "notice(2): Group \"all\" created containing 2 particles\n"
     ]
    }
   ],
   "source": [
    "system = hoomd.init.read_snapshot(snap)"
   ]
  },
  {
   "cell_type": "code",
   "execution_count": 32,
   "metadata": {},
   "outputs": [
    {
     "name": "stdout",
     "output_type": "stream",
     "text": [
      "-----\n",
      "You are using implicit depletants. Please cite the following:\n",
      "* J Glaser, A S Karas, and S C Glotzer. \"A parallel algorithm for implicit\n",
      "  depletant simulations\", The Journal of Chemical Physics 143 (2015) 184110\n",
      "-----\n",
      "[0.05 0.1  0.15 0.2  0.25 0.3  0.35 0.4  0.45 0.5 ]\n"
     ]
    }
   ],
   "source": [
    "polyhedra_type = \"A\"\n",
    "depletant_type = \"B\"\n",
    "system.particles.types.add(depletant_type)\n",
    "seed = np.random.randint(1,1e5)\n",
    "mc = hpmc.integrate.convex_spheropolyhedron(seed=seed, implicit=True)\n",
    "mc.shape_param.set(\"A\", vertices = cube_verts, sweep_radius = 0)\n",
    "mc.set_params(depletant_type = depletant_type)\n",
    "mc.set_params(d = {polyhedra_type: 0, depletant_type: 0}, a = {polyhedra_type: 0, depletant_type: 0})\n",
    "mc.set_params(nR=0)\n",
    "free_vol = hpmc.compute.free_volume(mc = mc, seed = seed, nsample = 5e5, test_type = depletant_type)\n",
    "log_quantities = ['hpmc_free_volume']\n",
    "log = hoomd.analyze.log(filename=None, quantities = log_quantities, period = 1, overwrite = True)\n",
    "depletant_radii = np.linspace(0.05, 0.5, 10)\n",
    "# print (depletant_radii)\n",
    "# mc.shape_param.set(depletant_type, vertices=[], sweep_radius=depletant_radius)\n",
    "# hoomd.run(1)"
   ]
  },
  {
   "cell_type": "code",
   "execution_count": 37,
   "metadata": {},
   "outputs": [],
   "source": [
    "depletant_radii = np.linspace(0.05, 0.8, 30)\n",
    "free_vols = []\n",
    "for depletant_radius in depletant_radii:\n",
    "    mc.shape_param.set(depletant_type, vertices=[], sweep_radius=depletant_radius)\n",
    "    hoomd.run(1, quiet=True)\n",
    "    free_vols.append(log.query('hpmc_free_volume'))"
   ]
  },
  {
   "cell_type": "code",
   "execution_count": 50,
   "metadata": {},
   "outputs": [
    {
     "data": {
      "text/plain": [
       "Text(0.5, 1.0, 'free volume sanity')"
      ]
     },
     "execution_count": 50,
     "metadata": {},
     "output_type": "execute_result"
    },
    {
     "data": {
      "image/png": "[encoded data removed]",
      "text/plain": [
       "<Figure size 792x576 with 1 Axes>"
      ]
     },
     "metadata": {
      "needs_background": "light"
     },
     "output_type": "display_data"
    }
   ],
   "source": [
    "plt.figure(figsize=(11,8))\n",
    "plt.scatter(depletant_radii, np.asarray(free_vols)*(4/3*np.pi*depletant_radii))\n",
    "plt.ylabel('hpmc free volume')\n",
    "plt.xlabel('depletant_radius')\n",
    "plt.title('free volume sanity')"
   ]
  },
  {
   "cell_type": "code",
   "execution_count": 44,
   "metadata": {},
   "outputs": [],
   "source": [
    "import freud"
   ]
  },
  {
   "cell_type": "code",
   "execution_count": 45,
   "metadata": {},
   "outputs": [
    {
     "data": {
      "text/plain": [
       "freud.box.Box(Lx=3.0, Ly=1.0, Lz=1.0, xy=0.0, xz=0.0, yz=0.0, is2D=False)"
      ]
     },
     "execution_count": 45,
     "metadata": {},
     "output_type": "execute_result"
    }
   ],
   "source": [
    "freud.box.Box.from_box(box_matrix)"
   ]
  },
  {
   "cell_type": "code",
   "execution_count": 35,
   "metadata": {},
   "outputs": [
    {
     "name": "stdout",
     "output_type": "stream",
     "text": [
      "0\n",
      "1\n",
      "2\n",
      "3\n",
      "4\n",
      "5\n",
      "6\n",
      "7\n",
      "8\n",
      "9\n"
     ]
    }
   ],
   "source": [
    "for i in range(10):\n",
    "    print (i)\n",
    "    if i > 5:\n",
    "        exit"
   ]
  },
  {
   "cell_type": "code",
   "execution_count": null,
   "metadata": {},
   "outputs": [],
   "source": []
  }
 ],
 "metadata": {
  "kernelspec": {
   "display_name": "Python 3",
   "language": "python",
   "name": "python3"
  },
  "language_info": {
   "codemirror_mode": {
    "name": "ipython",
    "version": 3
   },
   "file_extension": ".py",
   "mimetype": "text/x-python",
   "name": "python",
   "nbconvert_exporter": "python",
   "pygments_lexer": "ipython3",
   "version": "3.6.7"
  }
 },
 "nbformat": 4,
 "nbformat_minor": 2
}
