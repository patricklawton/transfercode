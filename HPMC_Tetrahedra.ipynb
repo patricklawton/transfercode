{
 "cells": [
  {
   "cell_type": "markdown",
   "metadata": {},
   "source": [
    "Goal:successfully run a hoomd.hpmc simulation of tetrahedra using the general polygon integration method "
   ]
  },
  {
   "cell_type": "code",
   "execution_count": 1,
   "metadata": {},
   "outputs": [],
   "source": [
    "import hoomd\n",
    "import hoomd.hpmc\n",
    "import numpy as np\n",
    "from matplotlib import pyplot as plt\n",
    "%matplotlib inline "
   ]
  },
  {
   "cell_type": "code",
   "execution_count": 2,
   "metadata": {},
   "outputs": [
    {
     "name": "stdout",
     "output_type": "stream",
     "text": [
      "HOOMD-blue v2.6.0-8-g898f4c752 DOUBLE HPMC_MIXED MPI SSE SSE2 \n",
      "Compiled: 06/06/2019\n",
      "Copyright (c) 2009-2019 The Regents of the University of Michigan.\n",
      "-----\n",
      "You are using HOOMD-blue. Please cite the following:\n",
      "* J A Anderson, C D Lorenz, and A Travesset. \"General purpose molecular dynamics\n",
      "  simulations fully implemented on graphics processing units\", Journal of\n",
      "  Computational Physics 227 (2008) 5342--5359\n",
      "* J Glaser, T D Nguyen, J A Anderson, P Liu, F Spiga, J A Millan, D C Morse, and\n",
      "  S C Glotzer. \"Strong scaling of general-purpose molecular dynamics simulations\n",
      "  on GPUs\", Computer Physics Communications 192 (2015) 97--107\n",
      "-----\n",
      "-----\n",
      "You are using HPMC. Please cite the following:\n",
      "* J A Anderson, M E Irrgang, and S C Glotzer. \"Scalable Metropolis Monte Carlo\n",
      "  for simulation of hard shapes\", Computer Physics Communications 204 (2016) 21\n",
      "  --30\n",
      "-----\n",
      "HOOMD-blue is running on the CPU\n"
     ]
    },
    {
     "data": {
      "text/plain": [
       "<hoomd.context.SimulationContext at 0x2ac49c3b7ef0>"
      ]
     },
     "execution_count": 2,
     "metadata": {},
     "output_type": "execute_result"
    }
   ],
   "source": [
    "hoomd.context.initialize(\"--mode=cpu\")"
   ]
  },
  {
   "cell_type": "code",
   "execution_count": 110,
   "metadata": {},
   "outputs": [
    {
     "data": {
      "text/plain": [
       "7680"
      ]
     },
     "execution_count": 110,
     "metadata": {},
     "output_type": "execute_result"
    }
   ],
   "source": [
    "16*16*30"
   ]
  },
  {
   "cell_type": "code",
   "execution_count": 3,
   "metadata": {},
   "outputs": [
    {
     "name": "stdout",
     "output_type": "stream",
     "text": [
      "notice(2): Group \"all\" created containing 6859 particles\n"
     ]
    },
    {
     "data": {
      "text/plain": [
       "<hoomd.data.system_data at 0x2ac49c41bbe0>"
      ]
     },
     "execution_count": 3,
     "metadata": {},
     "output_type": "execute_result"
    }
   ],
   "source": [
    "hoomd.init.create_lattice(unitcell=hoomd.lattice.sc(a=3),n=int(7680**(1/3)))"
   ]
  },
  {
   "cell_type": "code",
   "execution_count": 4,
   "metadata": {},
   "outputs": [],
   "source": [
    "#spheres\n",
    "mc = hoomd.hpmc.integrate.sphere(seed=1, d=0.1, a=0.1)\n",
    "mc.shape_param.set('A', diameter=1.0)"
   ]
  },
  {
   "cell_type": "code",
   "execution_count": 5,
   "metadata": {},
   "outputs": [],
   "source": [
    "#tetrahedra\n",
    "from utils import shapetools\n",
    "from euclid.FreudShape import ConvexPolyhedron\n",
    "hoomd.init.create_lattice(unitcell=hoomd.lattice.sc(a=3),n=int(7680**(1/3)))\n",
    "c_val = (2 * (1 - 0.59) + 1)\n",
    "particle_vertices = shapetools.unitVolumeVerts(a=1,b=2,c=c_val)\n",
    "freud_shape = ConvexPolyhedron(points=particle_vertices)\n",
    "mc = hoomd.hpmc.integrate.convex_polyhedron(seed=1, d=0.1, a=0.1)\n",
    "mc.shape_param.set('A', vertices=particle_vertices)\n",
    "# mc.shape_param.set('A', vertices=[(1,0,-1/np.sqrt(2)), (-1,0,1/np.sqrt(2)),(0,-1,1/np.sqrt(2)),(0,+1,1/np.sqrt(2))])"
   ]
  },
  {
   "cell_type": "code",
   "execution_count": 6,
   "metadata": {},
   "outputs": [],
   "source": [
    "all = hoomd.group.all()"
   ]
  },
  {
   "cell_type": "code",
   "execution_count": 96,
   "metadata": {},
   "outputs": [],
   "source": [
    "d = hoomd.dump.gsd(\"tetrahedra.gsd\", period=(10), group=all, overwrite=True)"
   ]
  },
  {
   "cell_type": "code",
   "execution_count": 103,
   "metadata": {},
   "outputs": [],
   "source": [
    "d.dump_state(obj=mc)"
   ]
  },
  {
   "cell_type": "code",
   "execution_count": 104,
   "metadata": {},
   "outputs": [],
   "source": [
    "free_vol = hoomd.hpmc.compute.free_volume(mc=mc, seed=123, nsample=100)"
   ]
  },
  {
   "cell_type": "code",
   "execution_count": 105,
   "metadata": {},
   "outputs": [
    {
     "data": {
      "text/plain": [
       "<hoomd.analyze.log at 0x13616cfd0>"
      ]
     },
     "execution_count": 105,
     "metadata": {},
     "output_type": "execute_result"
    }
   ],
   "source": [
    "hoomd.analyze.log(filename=\"tetrahedra.log\",\n",
    "                 quantities=['hpmc_free_volume'],\n",
    "                            period=(100),\n",
    "                            overwrite=True)"
   ]
  },
  {
   "cell_type": "code",
   "execution_count": 7,
   "metadata": {},
   "outputs": [
    {
     "name": "stdout",
     "output_type": "stream",
     "text": [
      "** starting run **\n",
      "Time 00:00:08 | Step 30 / 30 | TPS 20.3609 | ETA 00:00:00\n",
      "Average TPS: 20.3449\n",
      "---------\n",
      "notice(2): -- HPMC stats:\n",
      "notice(2): Average translate acceptance: 0.999927\n",
      "notice(2): Average rotate acceptance:    0.999971\n",
      "notice(2): Trial moves per second:        557683\n",
      "notice(2): Overlap checks per second:     1.19123e+07\n",
      "notice(2): Overlap checks per trial move: 21.3603\n",
      "notice(2): Number of overlap errors:      0\n",
      "** run complete **\n",
      "** starting run **\n",
      "Time 00:00:09 | Step 60 / 60 | TPS 30.0098 | ETA 00:00:00\n",
      "Average TPS: 29.8403\n",
      "---------\n",
      "notice(2): -- HPMC stats:\n",
      "notice(2): Average translate acceptance: 0.998052\n",
      "notice(2): Average rotate acceptance:    0.998558\n",
      "notice(2): Trial moves per second:        816402\n",
      "notice(2): Overlap checks per second:     1.86905e+07\n",
      "notice(2): Overlap checks per trial move: 22.8938\n",
      "notice(2): Number of overlap errors:      0\n",
      "** run complete **\n",
      "** starting run **\n",
      "Time 00:00:10 | Step 90 / 90 | TPS 27.7305 | ETA 00:00:00\n",
      "Average TPS: 27.7046\n",
      "---------\n",
      "notice(2): -- HPMC stats:\n",
      "notice(2): Average translate acceptance: 0.994591\n",
      "notice(2): Average rotate acceptance:    0.995454\n",
      "notice(2): Trial moves per second:        759208\n",
      "notice(2): Overlap checks per second:     1.90521e+07\n",
      "notice(2): Overlap checks per trial move: 25.0947\n",
      "notice(2): Number of overlap errors:      0\n",
      "** run complete **\n",
      "** starting run **\n",
      "Time 00:00:11 | Step 120 / 120 | TPS 26.2213 | ETA 00:00:00\n",
      "Average TPS: 26.1794\n",
      "---------\n",
      "notice(2): -- HPMC stats:\n",
      "notice(2): Average translate acceptance: 0.990837\n",
      "notice(2): Average rotate acceptance:    0.992478\n",
      "notice(2): Trial moves per second:        717365\n",
      "notice(2): Overlap checks per second:     1.93613e+07\n",
      "notice(2): Overlap checks per trial move: 26.9895\n",
      "notice(2): Number of overlap errors:      0\n",
      "** run complete **\n",
      "** starting run **\n",
      "Time 00:00:12 | Step 150 / 150 | TPS 25.2243 | ETA 00:00:00\n",
      "Average TPS: 25.1609\n",
      "---------\n",
      "notice(2): -- HPMC stats:\n",
      "notice(2): Average translate acceptance: 0.98812\n",
      "notice(2): Average rotate acceptance:    0.990363\n",
      "notice(2): Trial moves per second:        689534\n",
      "notice(2): Overlap checks per second:     1.97817e+07\n",
      "notice(2): Overlap checks per trial move: 28.6884\n",
      "notice(2): Number of overlap errors:      0\n",
      "** run complete **\n",
      "** starting run **\n",
      "Time 00:00:13 | Step 180 / 180 | TPS 24.7382 | ETA 00:00:00\n",
      "Average TPS: 24.7176\n",
      "---------\n",
      "notice(2): -- HPMC stats:\n",
      "notice(2): Average translate acceptance: 0.986239\n",
      "notice(2): Average rotate acceptance:    0.988381\n",
      "notice(2): Trial moves per second:        677498\n",
      "notice(2): Overlap checks per second:     1.99269e+07\n",
      "notice(2): Overlap checks per trial move: 29.4125\n",
      "notice(2): Number of overlap errors:      0\n",
      "** run complete **\n",
      "** starting run **\n",
      "Time 00:00:14 | Step 210 / 210 | TPS 24.0804 | ETA 00:00:00\n",
      "Average TPS: 24.054\n",
      "---------\n",
      "notice(2): -- HPMC stats:\n",
      "notice(2): Average translate acceptance: 0.985835\n",
      "notice(2): Average rotate acceptance:    0.988018\n",
      "notice(2): Trial moves per second:        659308\n",
      "notice(2): Overlap checks per second:     1.9819e+07\n",
      "notice(2): Overlap checks per trial move: 30.0603\n",
      "notice(2): Number of overlap errors:      0\n",
      "** run complete **\n",
      "** starting run **\n",
      "Time 00:00:16 | Step 240 / 240 | TPS 24.2246 | ETA 00:00:00\n",
      "Average TPS: 24.204\n",
      "---------\n",
      "notice(2): -- HPMC stats:\n",
      "notice(2): Average translate acceptance: 0.985126\n",
      "notice(2): Average rotate acceptance:    0.987492\n",
      "notice(2): Trial moves per second:        663359\n",
      "notice(2): Overlap checks per second:     2.02757e+07\n",
      "notice(2): Overlap checks per trial move: 30.5653\n",
      "notice(2): Number of overlap errors:      0\n",
      "** run complete **\n",
      "** starting run **\n",
      "Time 00:00:17 | Step 270 / 270 | TPS 24.0992 | ETA 00:00:00\n",
      "Average TPS: 24.0757\n",
      "---------\n",
      "notice(2): -- HPMC stats:\n",
      "notice(2): Average translate acceptance: 0.984497\n",
      "notice(2): Average rotate acceptance:    0.986726\n",
      "notice(2): Trial moves per second:        659805\n",
      "notice(2): Overlap checks per second:     2.00337e+07\n",
      "notice(2): Overlap checks per trial move: 30.3631\n",
      "notice(2): Number of overlap errors:      0\n",
      "** run complete **\n",
      "** starting run **\n",
      "Time 00:00:18 | Step 300 / 300 | TPS 23.8789 | ETA 00:00:00\n",
      "Average TPS: 23.7916\n",
      "---------\n",
      "notice(2): -- HPMC stats:\n",
      "notice(2): Average translate acceptance: 0.98366\n",
      "notice(2): Average rotate acceptance:    0.985579\n",
      "notice(2): Trial moves per second:        652020\n",
      "notice(2): Overlap checks per second:     1.98906e+07\n",
      "notice(2): Overlap checks per trial move: 30.5062\n",
      "notice(2): Number of overlap errors:      0\n",
      "** run complete **\n"
     ]
    }
   ],
   "source": [
    "for i in range(10):\n",
    "    hoomd.run(30)"
   ]
  },
  {
   "cell_type": "code",
   "execution_count": 18,
   "metadata": {},
   "outputs": [],
   "source": [
    "data = np.genfromtxt(fname='tetrahedra.log', skip_header=True);"
   ]
  },
  {
   "cell_type": "code",
   "execution_count": 19,
   "metadata": {},
   "outputs": [
    {
     "ename": "IndexError",
     "evalue": "too many indices for array",
     "output_type": "error",
     "traceback": [
      "\u001b[0;31m---------------------------------------------------------------------------\u001b[0m",
      "\u001b[0;31mIndexError\u001b[0m                                Traceback (most recent call last)",
      "\u001b[0;32m<ipython-input-19-01e1ed5dd6e4>\u001b[0m in \u001b[0;36m<module>\u001b[0;34m\u001b[0m\n\u001b[1;32m      1\u001b[0m \u001b[0mplt\u001b[0m\u001b[0;34m.\u001b[0m\u001b[0mfigure\u001b[0m\u001b[0;34m(\u001b[0m\u001b[0mfigsize\u001b[0m\u001b[0;34m=\u001b[0m\u001b[0;34m(\u001b[0m\u001b[0;36m4\u001b[0m\u001b[0;34m,\u001b[0m\u001b[0;36m2.2\u001b[0m\u001b[0;34m)\u001b[0m\u001b[0;34m,\u001b[0m \u001b[0mdpi\u001b[0m\u001b[0;34m=\u001b[0m\u001b[0;36m140\u001b[0m\u001b[0;34m)\u001b[0m\u001b[0;34m;\u001b[0m\u001b[0;34m\u001b[0m\u001b[0;34m\u001b[0m\u001b[0m\n\u001b[0;32m----> 2\u001b[0;31m \u001b[0mplt\u001b[0m\u001b[0;34m.\u001b[0m\u001b[0mplot\u001b[0m\u001b[0;34m(\u001b[0m\u001b[0mdata\u001b[0m\u001b[0;34m[\u001b[0m\u001b[0;34m:\u001b[0m\u001b[0;34m,\u001b[0m\u001b[0;36m0\u001b[0m\u001b[0;34m]\u001b[0m\u001b[0;34m,\u001b[0m \u001b[0mdata\u001b[0m\u001b[0;34m[\u001b[0m\u001b[0;34m:\u001b[0m\u001b[0;34m,\u001b[0m\u001b[0;36m1\u001b[0m\u001b[0;34m]\u001b[0m\u001b[0;34m)\u001b[0m\u001b[0;34m;\u001b[0m\u001b[0;34m\u001b[0m\u001b[0;34m\u001b[0m\u001b[0m\n\u001b[0m",
      "\u001b[0;31mIndexError\u001b[0m: too many indices for array"
     ]
    },
    {
     "data": {
      "text/plain": [
       "<Figure size 560x308 with 0 Axes>"
      ]
     },
     "metadata": {},
     "output_type": "display_data"
    }
   ],
   "source": [
    "plt.figure(figsize=(4,2.2), dpi=140);\n",
    "plt.plot(data[:,0], data[:,1]);"
   ]
  },
  {
   "cell_type": "code",
   "execution_count": 24,
   "metadata": {},
   "outputs": [
    {
     "data": {
      "text/plain": [
       "array([    0.  , 13906.25])"
      ]
     },
     "execution_count": 24,
     "metadata": {},
     "output_type": "execute_result"
    }
   ],
   "source": [
    "data"
   ]
  },
  {
   "cell_type": "code",
   "execution_count": null,
   "metadata": {},
   "outputs": [],
   "source": []
  }
 ],
 "metadata": {
  "kernelspec": {
   "display_name": "Python 3",
   "language": "python",
   "name": "python3"
  },
  "language_info": {
   "codemirror_mode": {
    "name": "ipython",
    "version": 3
   },
   "file_extension": ".py",
   "mimetype": "text/x-python",
   "name": "python",
   "nbconvert_exporter": "python",
   "pygments_lexer": "ipython3",
   "version": "3.6.7"
  }
 },
 "nbformat": 4,
 "nbformat_minor": 2
}
